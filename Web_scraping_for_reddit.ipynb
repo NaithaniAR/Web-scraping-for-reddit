{
  "cells": [
    {
      "cell_type": "markdown",
      "metadata": {
        "id": "view-in-github",
        "colab_type": "text"
      },
      "source": [
        "<a href=\"https://colab.research.google.com/github/NaithaniAR/Web-scraping-for-reddit/blob/main/Web_scraping_for_reddit.ipynb\" target=\"_parent\"><img src=\"https://colab.research.google.com/assets/colab-badge.svg\" alt=\"Open In Colab\"/></a>"
      ]
    },
    {
      "cell_type": "code",
      "source": [
        "pip install vaderSentiment"
      ],
      "metadata": {
        "colab": {
          "base_uri": "https://localhost:8080/"
        },
        "id": "l1uQ49akBZNe",
        "outputId": "f5bc837e-5b6f-435b-b292-b680e220b59d"
      },
      "execution_count": null,
      "outputs": [
        {
          "output_type": "stream",
          "name": "stdout",
          "text": [
            "Collecting vaderSentiment\n",
            "  Downloading vaderSentiment-3.3.2-py2.py3-none-any.whl (125 kB)\n",
            "\u001b[?25l\r\u001b[K     |██▋                             | 10 kB 20.1 MB/s eta 0:00:01\r\u001b[K     |█████▏                          | 20 kB 22.1 MB/s eta 0:00:01\r\u001b[K     |███████▉                        | 30 kB 13.3 MB/s eta 0:00:01\r\u001b[K     |██████████▍                     | 40 kB 9.9 MB/s eta 0:00:01\r\u001b[K     |█████████████                   | 51 kB 6.9 MB/s eta 0:00:01\r\u001b[K     |███████████████▋                | 61 kB 8.1 MB/s eta 0:00:01\r\u001b[K     |██████████████████▏             | 71 kB 8.1 MB/s eta 0:00:01\r\u001b[K     |████████████████████▉           | 81 kB 7.6 MB/s eta 0:00:01\r\u001b[K     |███████████████████████▍        | 92 kB 8.4 MB/s eta 0:00:01\r\u001b[K     |██████████████████████████      | 102 kB 8.1 MB/s eta 0:00:01\r\u001b[K     |████████████████████████████▋   | 112 kB 8.1 MB/s eta 0:00:01\r\u001b[K     |███████████████████████████████▏| 122 kB 8.1 MB/s eta 0:00:01\r\u001b[K     |████████████████████████████████| 125 kB 8.1 MB/s \n",
            "\u001b[?25hRequirement already satisfied: requests in /usr/local/lib/python3.7/dist-packages (from vaderSentiment) (2.23.0)\n",
            "Requirement already satisfied: certifi>=2017.4.17 in /usr/local/lib/python3.7/dist-packages (from requests->vaderSentiment) (2021.10.8)\n",
            "Requirement already satisfied: idna<3,>=2.5 in /usr/local/lib/python3.7/dist-packages (from requests->vaderSentiment) (2.10)\n",
            "Requirement already satisfied: urllib3!=1.25.0,!=1.25.1,<1.26,>=1.21.1 in /usr/local/lib/python3.7/dist-packages (from requests->vaderSentiment) (1.24.3)\n",
            "Requirement already satisfied: chardet<4,>=3.0.2 in /usr/local/lib/python3.7/dist-packages (from requests->vaderSentiment) (3.0.4)\n",
            "Installing collected packages: vaderSentiment\n",
            "Successfully installed vaderSentiment-3.3.2\n"
          ]
        }
      ]
    },
    {
      "cell_type": "code",
      "source": [
        "pip install praw"
      ],
      "metadata": {
        "colab": {
          "base_uri": "https://localhost:8080/"
        },
        "id": "dOAnGkltBfCa",
        "outputId": "0bcbe650-9320-4cfc-fb11-5ee17ecf5ca9"
      },
      "execution_count": null,
      "outputs": [
        {
          "output_type": "stream",
          "name": "stdout",
          "text": [
            "Collecting praw\n",
            "  Downloading praw-7.5.0-py3-none-any.whl (176 kB)\n",
            "\u001b[?25l\r\u001b[K     |█▉                              | 10 kB 20.1 MB/s eta 0:00:01\r\u001b[K     |███▊                            | 20 kB 15.0 MB/s eta 0:00:01\r\u001b[K     |█████▋                          | 30 kB 10.7 MB/s eta 0:00:01\r\u001b[K     |███████▍                        | 40 kB 9.2 MB/s eta 0:00:01\r\u001b[K     |█████████▎                      | 51 kB 6.9 MB/s eta 0:00:01\r\u001b[K     |███████████▏                    | 61 kB 8.0 MB/s eta 0:00:01\r\u001b[K     |█████████████                   | 71 kB 8.0 MB/s eta 0:00:01\r\u001b[K     |██████████████▉                 | 81 kB 6.9 MB/s eta 0:00:01\r\u001b[K     |████████████████▊               | 92 kB 7.6 MB/s eta 0:00:01\r\u001b[K     |██████████████████▋             | 102 kB 7.8 MB/s eta 0:00:01\r\u001b[K     |████████████████████▍           | 112 kB 7.8 MB/s eta 0:00:01\r\u001b[K     |██████████████████████▎         | 122 kB 7.8 MB/s eta 0:00:01\r\u001b[K     |████████████████████████▏       | 133 kB 7.8 MB/s eta 0:00:01\r\u001b[K     |██████████████████████████      | 143 kB 7.8 MB/s eta 0:00:01\r\u001b[K     |███████████████████████████▉    | 153 kB 7.8 MB/s eta 0:00:01\r\u001b[K     |█████████████████████████████▊  | 163 kB 7.8 MB/s eta 0:00:01\r\u001b[K     |███████████████████████████████▌| 174 kB 7.8 MB/s eta 0:00:01\r\u001b[K     |████████████████████████████████| 176 kB 7.8 MB/s \n",
            "\u001b[?25hCollecting prawcore<3,>=2.1\n",
            "  Downloading prawcore-2.3.0-py3-none-any.whl (16 kB)\n",
            "Collecting update-checker>=0.18\n",
            "  Downloading update_checker-0.18.0-py3-none-any.whl (7.0 kB)\n",
            "Collecting websocket-client>=0.54.0\n",
            "  Downloading websocket_client-1.3.2-py3-none-any.whl (54 kB)\n",
            "\u001b[K     |████████████████████████████████| 54 kB 2.5 MB/s \n",
            "\u001b[?25hRequirement already satisfied: requests<3.0,>=2.6.0 in /usr/local/lib/python3.7/dist-packages (from prawcore<3,>=2.1->praw) (2.23.0)\n",
            "Requirement already satisfied: urllib3!=1.25.0,!=1.25.1,<1.26,>=1.21.1 in /usr/local/lib/python3.7/dist-packages (from requests<3.0,>=2.6.0->prawcore<3,>=2.1->praw) (1.24.3)\n",
            "Requirement already satisfied: certifi>=2017.4.17 in /usr/local/lib/python3.7/dist-packages (from requests<3.0,>=2.6.0->prawcore<3,>=2.1->praw) (2021.10.8)\n",
            "Requirement already satisfied: chardet<4,>=3.0.2 in /usr/local/lib/python3.7/dist-packages (from requests<3.0,>=2.6.0->prawcore<3,>=2.1->praw) (3.0.4)\n",
            "Requirement already satisfied: idna<3,>=2.5 in /usr/local/lib/python3.7/dist-packages (from requests<3.0,>=2.6.0->prawcore<3,>=2.1->praw) (2.10)\n",
            "Installing collected packages: websocket-client, update-checker, prawcore, praw\n",
            "Successfully installed praw-7.5.0 prawcore-2.3.0 update-checker-0.18.0 websocket-client-1.3.2\n"
          ]
        }
      ]
    },
    {
      "cell_type": "code",
      "execution_count": null,
      "metadata": {
        "id": "V2FdmmtPnLK-"
      },
      "outputs": [],
      "source": [
        "import pandas as pd\n",
        "import numpy as np\n",
        "import nltk\n",
        "import nltk.sentiment.vader \n",
        "from vaderSentiment.vaderSentiment import SentimentIntensityAnalyzer as SIA\n",
        "\n",
        "#import SentimetIntensityAnalyzer as SIA\n",
        "import seaborn as sns\n",
        "from IPython import display \n",
        "from pprint import pprint\n",
        "import praw\n",
        "import matplotlib.pyplot as plt\n",
        "import math\n"
      ]
    },
    {
      "cell_type": "code",
      "execution_count": null,
      "metadata": {
        "colab": {
          "base_uri": "https://localhost:8080/"
        },
        "id": "56pYAgt2yZRQ",
        "outputId": "9cd467b6-1a5f-48cd-9d7b-04a906355ed4"
      },
      "outputs": [
        {
          "output_type": "stream",
          "name": "stdout",
          "text": [
            "[nltk_data] Downloading package vader_lexicon to /root/nltk_data...\n",
            "[nltk_data] Downloading package stopwords to /root/nltk_data...\n",
            "[nltk_data]   Unzipping corpora/stopwords.zip.\n"
          ]
        },
        {
          "output_type": "execute_result",
          "data": {
            "text/plain": [
              "True"
            ]
          },
          "metadata": {},
          "execution_count": 12
        }
      ],
      "source": [
        "nltk.download('vader_lexicon')\n",
        "nltk.download('stopwords')"
      ]
    },
    {
      "cell_type": "code",
      "execution_count": null,
      "metadata": {
        "id": "dy3ZqW2jkE3V"
      },
      "outputs": [],
      "source": [
        "\n",
        "reddit = praw.Reddit( client_id =\"Put client ID here  #\",\n",
        "                      client_secret = \"# Put Client secret here #\",                        \n",
        "                      user_agent = \"ME_jovial\")"
      ]
    },
    {
      "cell_type": "code",
      "execution_count": null,
      "metadata": {
        "colab": {
          "base_uri": "https://localhost:8080/"
        },
        "id": "aPbX7wLxjrtN",
        "outputId": "1489f1bb-62f1-4915-c038-16da05a7fb42"
      },
      "outputs": [
        {
          "output_type": "stream",
          "name": "stderr",
          "text": [
            "It appears that you are using PRAW in an asynchronous environment.\n",
            "It is strongly recommended to use Async PRAW: https://asyncpraw.readthedocs.io.\n",
            "See https://praw.readthedocs.io/en/latest/getting_started/multiple_instances.html#discord-bots-and-asynchronous-environments for more info.\n",
            "\n",
            "It appears that you are using PRAW in an asynchronous environment.\n",
            "It is strongly recommended to use Async PRAW: https://asyncpraw.readthedocs.io.\n",
            "See https://praw.readthedocs.io/en/latest/getting_started/multiple_instances.html#discord-bots-and-asynchronous-environments for more info.\n",
            "\n",
            "It appears that you are using PRAW in an asynchronous environment.\n",
            "It is strongly recommended to use Async PRAW: https://asyncpraw.readthedocs.io.\n",
            "See https://praw.readthedocs.io/en/latest/getting_started/multiple_instances.html#discord-bots-and-asynchronous-environments for more info.\n",
            "\n",
            "It appears that you are using PRAW in an asynchronous environment.\n",
            "It is strongly recommended to use Async PRAW: https://asyncpraw.readthedocs.io.\n",
            "See https://praw.readthedocs.io/en/latest/getting_started/multiple_instances.html#discord-bots-and-asynchronous-environments for more info.\n",
            "\n",
            "It appears that you are using PRAW in an asynchronous environment.\n",
            "It is strongly recommended to use Async PRAW: https://asyncpraw.readthedocs.io.\n",
            "See https://praw.readthedocs.io/en/latest/getting_started/multiple_instances.html#discord-bots-and-asynchronous-environments for more info.\n",
            "\n",
            "It appears that you are using PRAW in an asynchronous environment.\n",
            "It is strongly recommended to use Async PRAW: https://asyncpraw.readthedocs.io.\n",
            "See https://praw.readthedocs.io/en/latest/getting_started/multiple_instances.html#discord-bots-and-asynchronous-environments for more info.\n",
            "\n",
            "It appears that you are using PRAW in an asynchronous environment.\n",
            "It is strongly recommended to use Async PRAW: https://asyncpraw.readthedocs.io.\n",
            "See https://praw.readthedocs.io/en/latest/getting_started/multiple_instances.html#discord-bots-and-asynchronous-environments for more info.\n",
            "\n",
            "It appears that you are using PRAW in an asynchronous environment.\n",
            "It is strongly recommended to use Async PRAW: https://asyncpraw.readthedocs.io.\n",
            "See https://praw.readthedocs.io/en/latest/getting_started/multiple_instances.html#discord-bots-and-asynchronous-environments for more info.\n",
            "\n",
            "It appears that you are using PRAW in an asynchronous environment.\n",
            "It is strongly recommended to use Async PRAW: https://asyncpraw.readthedocs.io.\n",
            "See https://praw.readthedocs.io/en/latest/getting_started/multiple_instances.html#discord-bots-and-asynchronous-environments for more info.\n",
            "\n"
          ]
        },
        {
          "output_type": "stream",
          "name": "stdout",
          "text": [
            "894\n"
          ]
        }
      ],
      "source": [
        "headlines = set()\n",
        "\n",
        "for sub in reddit.subreddit(\"india\").new(limit=None):\n",
        " headlines.add(sub.title)\n",
        "\n",
        "print(len(headlines))"
      ]
    },
    {
      "cell_type": "code",
      "execution_count": null,
      "metadata": {
        "colab": {
          "base_uri": "https://localhost:8080/",
          "height": 206
        },
        "id": "ZrAUnwUBl1Ce",
        "outputId": "f31d810f-5669-4036-c3aa-a432630fa63b"
      },
      "outputs": [
        {
          "output_type": "execute_result",
          "data": {
            "text/plain": [
              "     neg    neu    pos  compound  \\\n",
              "0  0.600  0.400  0.000   -0.7184   \n",
              "1  0.000  1.000  0.000    0.0000   \n",
              "2  0.000  1.000  0.000    0.0000   \n",
              "3  0.179  0.578  0.243    0.2732   \n",
              "4  0.000  0.714  0.286    0.6808   \n",
              "\n",
              "                                            headline  \n",
              "0            Indian lawyers are useless and arrogant  \n",
              "1                              I'm so done with life  \n",
              "2  Stalin completes one year as TN CM, announces ...  \n",
              "3  12 years old relationship came to end with my ...  \n",
              "4  Girls have all the advantage in our society if...  "
            ],
            "text/html": [
              "\n",
              "  <div id=\"df-33c16485-d09b-4a4e-bac9-e47bc7e38593\">\n",
              "    <div class=\"colab-df-container\">\n",
              "      <div>\n",
              "<style scoped>\n",
              "    .dataframe tbody tr th:only-of-type {\n",
              "        vertical-align: middle;\n",
              "    }\n",
              "\n",
              "    .dataframe tbody tr th {\n",
              "        vertical-align: top;\n",
              "    }\n",
              "\n",
              "    .dataframe thead th {\n",
              "        text-align: right;\n",
              "    }\n",
              "</style>\n",
              "<table border=\"1\" class=\"dataframe\">\n",
              "  <thead>\n",
              "    <tr style=\"text-align: right;\">\n",
              "      <th></th>\n",
              "      <th>neg</th>\n",
              "      <th>neu</th>\n",
              "      <th>pos</th>\n",
              "      <th>compound</th>\n",
              "      <th>headline</th>\n",
              "    </tr>\n",
              "  </thead>\n",
              "  <tbody>\n",
              "    <tr>\n",
              "      <th>0</th>\n",
              "      <td>0.600</td>\n",
              "      <td>0.400</td>\n",
              "      <td>0.000</td>\n",
              "      <td>-0.7184</td>\n",
              "      <td>Indian lawyers are useless and arrogant</td>\n",
              "    </tr>\n",
              "    <tr>\n",
              "      <th>1</th>\n",
              "      <td>0.000</td>\n",
              "      <td>1.000</td>\n",
              "      <td>0.000</td>\n",
              "      <td>0.0000</td>\n",
              "      <td>I'm so done with life</td>\n",
              "    </tr>\n",
              "    <tr>\n",
              "      <th>2</th>\n",
              "      <td>0.000</td>\n",
              "      <td>1.000</td>\n",
              "      <td>0.000</td>\n",
              "      <td>0.0000</td>\n",
              "      <td>Stalin completes one year as TN CM, announces ...</td>\n",
              "    </tr>\n",
              "    <tr>\n",
              "      <th>3</th>\n",
              "      <td>0.179</td>\n",
              "      <td>0.578</td>\n",
              "      <td>0.243</td>\n",
              "      <td>0.2732</td>\n",
              "      <td>12 years old relationship came to end with my ...</td>\n",
              "    </tr>\n",
              "    <tr>\n",
              "      <th>4</th>\n",
              "      <td>0.000</td>\n",
              "      <td>0.714</td>\n",
              "      <td>0.286</td>\n",
              "      <td>0.6808</td>\n",
              "      <td>Girls have all the advantage in our society if...</td>\n",
              "    </tr>\n",
              "  </tbody>\n",
              "</table>\n",
              "</div>\n",
              "      <button class=\"colab-df-convert\" onclick=\"convertToInteractive('df-33c16485-d09b-4a4e-bac9-e47bc7e38593')\"\n",
              "              title=\"Convert this dataframe to an interactive table.\"\n",
              "              style=\"display:none;\">\n",
              "        \n",
              "  <svg xmlns=\"http://www.w3.org/2000/svg\" height=\"24px\"viewBox=\"0 0 24 24\"\n",
              "       width=\"24px\">\n",
              "    <path d=\"M0 0h24v24H0V0z\" fill=\"none\"/>\n",
              "    <path d=\"M18.56 5.44l.94 2.06.94-2.06 2.06-.94-2.06-.94-.94-2.06-.94 2.06-2.06.94zm-11 1L8.5 8.5l.94-2.06 2.06-.94-2.06-.94L8.5 2.5l-.94 2.06-2.06.94zm10 10l.94 2.06.94-2.06 2.06-.94-2.06-.94-.94-2.06-.94 2.06-2.06.94z\"/><path d=\"M17.41 7.96l-1.37-1.37c-.4-.4-.92-.59-1.43-.59-.52 0-1.04.2-1.43.59L10.3 9.45l-7.72 7.72c-.78.78-.78 2.05 0 2.83L4 21.41c.39.39.9.59 1.41.59.51 0 1.02-.2 1.41-.59l7.78-7.78 2.81-2.81c.8-.78.8-2.07 0-2.86zM5.41 20L4 18.59l7.72-7.72 1.47 1.35L5.41 20z\"/>\n",
              "  </svg>\n",
              "      </button>\n",
              "      \n",
              "  <style>\n",
              "    .colab-df-container {\n",
              "      display:flex;\n",
              "      flex-wrap:wrap;\n",
              "      gap: 12px;\n",
              "    }\n",
              "\n",
              "    .colab-df-convert {\n",
              "      background-color: #E8F0FE;\n",
              "      border: none;\n",
              "      border-radius: 50%;\n",
              "      cursor: pointer;\n",
              "      display: none;\n",
              "      fill: #1967D2;\n",
              "      height: 32px;\n",
              "      padding: 0 0 0 0;\n",
              "      width: 32px;\n",
              "    }\n",
              "\n",
              "    .colab-df-convert:hover {\n",
              "      background-color: #E2EBFA;\n",
              "      box-shadow: 0px 1px 2px rgba(60, 64, 67, 0.3), 0px 1px 3px 1px rgba(60, 64, 67, 0.15);\n",
              "      fill: #174EA6;\n",
              "    }\n",
              "\n",
              "    [theme=dark] .colab-df-convert {\n",
              "      background-color: #3B4455;\n",
              "      fill: #D2E3FC;\n",
              "    }\n",
              "\n",
              "    [theme=dark] .colab-df-convert:hover {\n",
              "      background-color: #434B5C;\n",
              "      box-shadow: 0px 1px 3px 1px rgba(0, 0, 0, 0.15);\n",
              "      filter: drop-shadow(0px 1px 2px rgba(0, 0, 0, 0.3));\n",
              "      fill: #FFFFFF;\n",
              "    }\n",
              "  </style>\n",
              "\n",
              "      <script>\n",
              "        const buttonEl =\n",
              "          document.querySelector('#df-33c16485-d09b-4a4e-bac9-e47bc7e38593 button.colab-df-convert');\n",
              "        buttonEl.style.display =\n",
              "          google.colab.kernel.accessAllowed ? 'block' : 'none';\n",
              "\n",
              "        async function convertToInteractive(key) {\n",
              "          const element = document.querySelector('#df-33c16485-d09b-4a4e-bac9-e47bc7e38593');\n",
              "          const dataTable =\n",
              "            await google.colab.kernel.invokeFunction('convertToInteractive',\n",
              "                                                     [key], {});\n",
              "          if (!dataTable) return;\n",
              "\n",
              "          const docLinkHtml = 'Like what you see? Visit the ' +\n",
              "            '<a target=\"_blank\" href=https://colab.research.google.com/notebooks/data_table.ipynb>data table notebook</a>'\n",
              "            + ' to learn more about interactive tables.';\n",
              "          element.innerHTML = '';\n",
              "          dataTable['output_type'] = 'display_data';\n",
              "          await google.colab.output.renderOutput(dataTable, element);\n",
              "          const docLink = document.createElement('div');\n",
              "          docLink.innerHTML = docLinkHtml;\n",
              "          element.appendChild(docLink);\n",
              "        }\n",
              "      </script>\n",
              "    </div>\n",
              "  </div>\n",
              "  "
            ]
          },
          "metadata": {},
          "execution_count": 17
        }
      ],
      "source": [
        "sia= SIA()\n",
        "results = []\n",
        "for line in headlines:\n",
        "    scores = sia.polarity_scores (line)\n",
        "    scores['headline'] = line\n",
        "    results.append(scores)\n",
        "\n",
        "df=pd.DataFrame.from_records (results)\n",
        "\n",
        "df.head()"
      ]
    },
    {
      "cell_type": "code",
      "execution_count": null,
      "metadata": {
        "colab": {
          "base_uri": "https://localhost:8080/"
        },
        "id": "4jaTRR9rpz1P",
        "outputId": "5c8e45cd-0470-4ae0-c230-429b841a1ee8"
      },
      "outputs": [
        {
          "output_type": "execute_result",
          "data": {
            "text/plain": [
              "(894, 5)"
            ]
          },
          "metadata": {},
          "execution_count": 18
        }
      ],
      "source": [
        "df.shape"
      ]
    },
    {
      "cell_type": "code",
      "execution_count": null,
      "metadata": {
        "colab": {
          "base_uri": "https://localhost:8080/",
          "height": 206
        },
        "id": "A5vG9jbkqgd4",
        "outputId": "0d95b717-73bc-4b03-845d-a6edf6ae33e7"
      },
      "outputs": [
        {
          "output_type": "execute_result",
          "data": {
            "text/plain": [
              "     neg    neu    pos  compound  \\\n",
              "0  0.600  0.400  0.000   -0.7184   \n",
              "1  0.000  1.000  0.000    0.0000   \n",
              "2  0.000  1.000  0.000    0.0000   \n",
              "3  0.179  0.578  0.243    0.2732   \n",
              "4  0.000  0.714  0.286    0.6808   \n",
              "\n",
              "                                            headline  label  \n",
              "0            Indian lawyers are useless and arrogant     -1  \n",
              "1                              I'm so done with life     -1  \n",
              "2  Stalin completes one year as TN CM, announces ...     -1  \n",
              "3  12 years old relationship came to end with my ...      1  \n",
              "4  Girls have all the advantage in our society if...      1  "
            ],
            "text/html": [
              "\n",
              "  <div id=\"df-ba6c278f-8bce-400d-b578-ab34a91a99c0\">\n",
              "    <div class=\"colab-df-container\">\n",
              "      <div>\n",
              "<style scoped>\n",
              "    .dataframe tbody tr th:only-of-type {\n",
              "        vertical-align: middle;\n",
              "    }\n",
              "\n",
              "    .dataframe tbody tr th {\n",
              "        vertical-align: top;\n",
              "    }\n",
              "\n",
              "    .dataframe thead th {\n",
              "        text-align: right;\n",
              "    }\n",
              "</style>\n",
              "<table border=\"1\" class=\"dataframe\">\n",
              "  <thead>\n",
              "    <tr style=\"text-align: right;\">\n",
              "      <th></th>\n",
              "      <th>neg</th>\n",
              "      <th>neu</th>\n",
              "      <th>pos</th>\n",
              "      <th>compound</th>\n",
              "      <th>headline</th>\n",
              "      <th>label</th>\n",
              "    </tr>\n",
              "  </thead>\n",
              "  <tbody>\n",
              "    <tr>\n",
              "      <th>0</th>\n",
              "      <td>0.600</td>\n",
              "      <td>0.400</td>\n",
              "      <td>0.000</td>\n",
              "      <td>-0.7184</td>\n",
              "      <td>Indian lawyers are useless and arrogant</td>\n",
              "      <td>-1</td>\n",
              "    </tr>\n",
              "    <tr>\n",
              "      <th>1</th>\n",
              "      <td>0.000</td>\n",
              "      <td>1.000</td>\n",
              "      <td>0.000</td>\n",
              "      <td>0.0000</td>\n",
              "      <td>I'm so done with life</td>\n",
              "      <td>-1</td>\n",
              "    </tr>\n",
              "    <tr>\n",
              "      <th>2</th>\n",
              "      <td>0.000</td>\n",
              "      <td>1.000</td>\n",
              "      <td>0.000</td>\n",
              "      <td>0.0000</td>\n",
              "      <td>Stalin completes one year as TN CM, announces ...</td>\n",
              "      <td>-1</td>\n",
              "    </tr>\n",
              "    <tr>\n",
              "      <th>3</th>\n",
              "      <td>0.179</td>\n",
              "      <td>0.578</td>\n",
              "      <td>0.243</td>\n",
              "      <td>0.2732</td>\n",
              "      <td>12 years old relationship came to end with my ...</td>\n",
              "      <td>1</td>\n",
              "    </tr>\n",
              "    <tr>\n",
              "      <th>4</th>\n",
              "      <td>0.000</td>\n",
              "      <td>0.714</td>\n",
              "      <td>0.286</td>\n",
              "      <td>0.6808</td>\n",
              "      <td>Girls have all the advantage in our society if...</td>\n",
              "      <td>1</td>\n",
              "    </tr>\n",
              "  </tbody>\n",
              "</table>\n",
              "</div>\n",
              "      <button class=\"colab-df-convert\" onclick=\"convertToInteractive('df-ba6c278f-8bce-400d-b578-ab34a91a99c0')\"\n",
              "              title=\"Convert this dataframe to an interactive table.\"\n",
              "              style=\"display:none;\">\n",
              "        \n",
              "  <svg xmlns=\"http://www.w3.org/2000/svg\" height=\"24px\"viewBox=\"0 0 24 24\"\n",
              "       width=\"24px\">\n",
              "    <path d=\"M0 0h24v24H0V0z\" fill=\"none\"/>\n",
              "    <path d=\"M18.56 5.44l.94 2.06.94-2.06 2.06-.94-2.06-.94-.94-2.06-.94 2.06-2.06.94zm-11 1L8.5 8.5l.94-2.06 2.06-.94-2.06-.94L8.5 2.5l-.94 2.06-2.06.94zm10 10l.94 2.06.94-2.06 2.06-.94-2.06-.94-.94-2.06-.94 2.06-2.06.94z\"/><path d=\"M17.41 7.96l-1.37-1.37c-.4-.4-.92-.59-1.43-.59-.52 0-1.04.2-1.43.59L10.3 9.45l-7.72 7.72c-.78.78-.78 2.05 0 2.83L4 21.41c.39.39.9.59 1.41.59.51 0 1.02-.2 1.41-.59l7.78-7.78 2.81-2.81c.8-.78.8-2.07 0-2.86zM5.41 20L4 18.59l7.72-7.72 1.47 1.35L5.41 20z\"/>\n",
              "  </svg>\n",
              "      </button>\n",
              "      \n",
              "  <style>\n",
              "    .colab-df-container {\n",
              "      display:flex;\n",
              "      flex-wrap:wrap;\n",
              "      gap: 12px;\n",
              "    }\n",
              "\n",
              "    .colab-df-convert {\n",
              "      background-color: #E8F0FE;\n",
              "      border: none;\n",
              "      border-radius: 50%;\n",
              "      cursor: pointer;\n",
              "      display: none;\n",
              "      fill: #1967D2;\n",
              "      height: 32px;\n",
              "      padding: 0 0 0 0;\n",
              "      width: 32px;\n",
              "    }\n",
              "\n",
              "    .colab-df-convert:hover {\n",
              "      background-color: #E2EBFA;\n",
              "      box-shadow: 0px 1px 2px rgba(60, 64, 67, 0.3), 0px 1px 3px 1px rgba(60, 64, 67, 0.15);\n",
              "      fill: #174EA6;\n",
              "    }\n",
              "\n",
              "    [theme=dark] .colab-df-convert {\n",
              "      background-color: #3B4455;\n",
              "      fill: #D2E3FC;\n",
              "    }\n",
              "\n",
              "    [theme=dark] .colab-df-convert:hover {\n",
              "      background-color: #434B5C;\n",
              "      box-shadow: 0px 1px 3px 1px rgba(0, 0, 0, 0.15);\n",
              "      filter: drop-shadow(0px 1px 2px rgba(0, 0, 0, 0.3));\n",
              "      fill: #FFFFFF;\n",
              "    }\n",
              "  </style>\n",
              "\n",
              "      <script>\n",
              "        const buttonEl =\n",
              "          document.querySelector('#df-ba6c278f-8bce-400d-b578-ab34a91a99c0 button.colab-df-convert');\n",
              "        buttonEl.style.display =\n",
              "          google.colab.kernel.accessAllowed ? 'block' : 'none';\n",
              "\n",
              "        async function convertToInteractive(key) {\n",
              "          const element = document.querySelector('#df-ba6c278f-8bce-400d-b578-ab34a91a99c0');\n",
              "          const dataTable =\n",
              "            await google.colab.kernel.invokeFunction('convertToInteractive',\n",
              "                                                     [key], {});\n",
              "          if (!dataTable) return;\n",
              "\n",
              "          const docLinkHtml = 'Like what you see? Visit the ' +\n",
              "            '<a target=\"_blank\" href=https://colab.research.google.com/notebooks/data_table.ipynb>data table notebook</a>'\n",
              "            + ' to learn more about interactive tables.';\n",
              "          element.innerHTML = '';\n",
              "          dataTable['output_type'] = 'display_data';\n",
              "          await google.colab.output.renderOutput(dataTable, element);\n",
              "          const docLink = document.createElement('div');\n",
              "          docLink.innerHTML = docLinkHtml;\n",
              "          element.appendChild(docLink);\n",
              "        }\n",
              "      </script>\n",
              "    </div>\n",
              "  </div>\n",
              "  "
            ]
          },
          "metadata": {},
          "execution_count": 19
        }
      ],
      "source": [
        "df[\"label\"] = 0\n",
        "\n",
        "df.loc[df[\"compound\"]> 0.1,'label'] =1\n",
        "df.loc[df[\"compound\"]< 0.1,'label'] = -1\n",
        "df.head()"
      ]
    },
    {
      "cell_type": "code",
      "execution_count": null,
      "metadata": {
        "colab": {
          "base_uri": "https://localhost:8080/"
        },
        "id": "OxzwpMJcurJy",
        "outputId": "100d92cf-afc0-4bf6-e740-020cedb1e2db"
      },
      "outputs": [
        {
          "output_type": "execute_result",
          "data": {
            "text/plain": [
              "3      12 years old relationship came to end with my ...\n",
              "4      Girls have all the advantage in our society if...\n",
              "10     Noted athletes like Abhinav Bindra and Rohit S...\n",
              "12     Stopped taking precautions because others used...\n",
              "13     IPL 2022: KKR's Pat Cummins is bowled over by ...\n",
              "                             ...                        \n",
              "872    As DMK govt bans mutt ritual, rationalists and...\n",
              "879     Can someone please recommend a mobile under 17k?\n",
              "881              How do you choose a perfect watermelon?\n",
              "886    Sorry for the quora-type question, but do any ...\n",
              "888    Germany to commit €10 bn more as assistance to...\n",
              "Name: headline, Length: 255, dtype: object"
            ]
          },
          "metadata": {},
          "execution_count": 20
        }
      ],
      "source": [
        "df[df['label'] == 1].headline"
      ]
    },
    {
      "cell_type": "code",
      "execution_count": null,
      "metadata": {
        "colab": {
          "background_save": true
        },
        "id": "4ujaUL5Vrdg4",
        "outputId": "29f7ccbf-72fa-4d14-e1f6-2025f74ec9bb"
      },
      "outputs": [
        {
          "name": "stdout",
          "output_type": "stream",
          "text": [
            "positive headlines: \n",
            "\n",
            "[\"Indian Devs contributing to KDE SoK'22 #proud\",\n",
            " 'Is Air Fryer useful? Does the food taste the same?',\n",
            " 'How do you wash the clothes you wear for workouts? Hand wash or machine wash?',\n",
            " 'Are we dome with covid or just the people not taking it seriously anymore?',\n",
            " 'I found this mini treasure at my home today. Any suggestions?']\n",
            "negative headlines: \n",
            "\n",
            "['Any advice for an interview at NID?',\n",
            " 'CA Final Student looking for advice!',\n",
            " 'Court commissioner surveys area outside Gyanvapi Mosque',\n",
            " 'My question is for the NRIs and the Indian students in foreign countries...',\n",
            " 'Miami Formula1 Race 2022…Where can I watch it on TV in India?']\n"
          ]
        }
      ],
      "source": [
        "print(\"positive headlines: \\n\") \n",
        "pprint (list (df[df['label'] == 1].headline)[:5],width = 100)\n",
        "\n",
        "print(\"negative headlines: \\n\") \n",
        "pprint (list (df[df['label'] == -1].headline)[:5],width = 100)\n"
      ]
    },
    {
      "cell_type": "code",
      "execution_count": null,
      "metadata": {
        "colab": {
          "base_uri": "https://localhost:8080/"
        },
        "id": "Q3z1pUFksiEj",
        "outputId": "cf7d829f-2cc1-4632-c9eb-89e468401d32"
      },
      "outputs": [
        {
          "name": "stdout",
          "output_type": "stream",
          "text": [
            "-1    638\n",
            " 1    258\n",
            "Name: label, dtype: int64\n",
            "-1    71.205357\n",
            " 1    28.794643\n",
            "Name: label, dtype: float64\n"
          ]
        }
      ],
      "source": [
        "print(df.label.value_counts()) \n",
        "print(df.label.value_counts(normalize=True)* 100)"
      ]
    },
    {
      "cell_type": "code",
      "execution_count": null,
      "metadata": {
        "colab": {
          "base_uri": "https://localhost:8080/",
          "height": 483
        },
        "id": "QwrTa-bStI2D",
        "outputId": "136044cf-8f41-4d22-c843-2b1ccfcfe2be"
      },
      "outputs": [
        {
          "data": {
            "image/png": "[encoded data removed]",
            "text/plain": [
              "<Figure size 576x576 with 1 Axes>"
            ]
          },
          "metadata": {},
          "output_type": "display_data"
        }
      ],
      "source": [
        "fig, ax = plt.subplots (figsize =(8,8))\n",
        "\n",
        "counts = df.label.value_counts (normalize=True)*100\n",
        "sns.barplot(x=counts.index, y=counts, ax=ax)\n",
        "ax.set_xticklabels(['negative','positive'])\n",
        "ax.set_ylabel(\"percentage\")\n",
        "plt.show()"
      ]
    },
    {
      "cell_type": "code",
      "execution_count": null,
      "metadata": {
        "id": "qkfVP1w4wBCk"
      },
      "outputs": [],
      "source": [
        "from nltk. tokenize import word_tokenize, RegexpTokenizer \n",
        "from nltk.corpus import stopwords \n",
        "tokenizer= RegexpTokenizer (r\"\\w+\")"
      ]
    },
    {
      "cell_type": "code",
      "execution_count": null,
      "metadata": {
        "id": "imQEVM6xwA4U"
      },
      "outputs": [],
      "source": [
        "stop_words = stopwords.words('english')\n",
        "\n",
        "def process_text (headlines):\n",
        " tokens = []\n",
        " for line in headlines:\n",
        "    toks= tokenizer.tokenize(line)\n",
        "    toks= [t.lower() for t in toks if t.lower() not in stop_words]\n",
        "    tokens.extend (toks)\n",
        " return tokens"
      ]
    },
    {
      "cell_type": "code",
      "execution_count": null,
      "metadata": {
        "colab": {
          "base_uri": "https://localhost:8080/"
        },
        "id": "KwUkDxXIxRxf",
        "outputId": "1a005b92-13e8-4c9f-c683-c20b6a96b7e5"
      },
      "outputs": [
        {
          "data": {
            "text/plain": [
              "[('india', 49),\n",
              " ('help', 33),\n",
              " ('indian', 25),\n",
              " ('please', 23),\n",
              " ('like', 17),\n",
              " ('need', 13),\n",
              " ('people', 12),\n",
              " ('get', 11),\n",
              " ('press', 11),\n",
              " ('best', 10)]"
            ]
          },
          "execution_count": 91,
          "metadata": {},
          "output_type": "execute_result"
        }
      ],
      "source": [
        "pos_lines= list(df[df.label==1].headline)\n",
        "pos_tokens = process_text(pos_lines) \n",
        "pos_freq = nltk.FreqDist(pos_tokens)\n",
        "pos_freq.most_common(10)"
      ]
    },
    {
      "cell_type": "code",
      "execution_count": null,
      "metadata": {
        "colab": {
          "base_uri": "https://localhost:8080/"
        },
        "id": "hpGUPfnwzMoQ",
        "outputId": "ef8172e5-e853-4715-cd22-dd4f48d64680"
      },
      "outputs": [
        {
          "data": {
            "text/plain": [
              "[('india', 121),\n",
              " ('indian', 45),\n",
              " ('delhi', 19),\n",
              " ('bjp', 17),\n",
              " ('police', 16),\n",
              " ('new', 15),\n",
              " ('get', 14),\n",
              " ('need', 14),\n",
              " ('women', 14),\n",
              " ('one', 13)]"
            ]
          },
          "execution_count": 92,
          "metadata": {},
          "output_type": "execute_result"
        }
      ],
      "source": [
        "pos_lines= list(df[df.label== -1].headline)\n",
        "pos_tokens = process_text(pos_lines) \n",
        "pos_freq = nltk.FreqDist(pos_tokens)\n",
        "pos_freq.most_common(10)"
      ]
    },
    {
      "cell_type": "code",
      "execution_count": null,
      "metadata": {
        "colab": {
          "base_uri": "https://localhost:8080/",
          "height": 350
        },
        "id": "gz06GpbJzh5_",
        "outputId": "4a82b29b-f045-4138-f735-0ca958ed08c4"
      },
      "outputs": [
        {
          "data": {
            "image/png": "[encoded data removed]",
            "text/plain": [
              "<Figure size 720x360 with 1 Axes>"
            ]
          },
          "metadata": {},
          "output_type": "display_data"
        }
      ],
      "source": [
        "y_val= [x[1] for x in pos_freq.most_common()] \n",
        "\n",
        "fig= plt.figure(figsize=(10,5))\n",
        "plt.plot(y_val)\n",
        "\n",
        "plt.xlabel(\"words\") \n",
        "plt.ylabel(\"Frequency\")\n",
        "\n",
        "plt.title(\"word Frequency Distribution (positive)\")\n",
        "\n",
        "plt.show()"
      ]
    },
    {
      "cell_type": "code",
      "execution_count": null,
      "metadata": {
        "colab": {
          "base_uri": "https://localhost:8080/",
          "height": 367
        },
        "id": "AkRh4jTu0sdw",
        "outputId": "130d59dd-49a2-4466-9663-b212f89b5cb3"
      },
      "outputs": [
        {
          "data": {
            "text/plain": [
              "<function matplotlib.pyplot.show>"
            ]
          },
          "execution_count": 94,
          "metadata": {},
          "output_type": "execute_result"
        },
        {
          "data": {
            "image/png": "[encoded data removed]",
            "text/plain": [
              "<Figure size 1296x360 with 1 Axes>"
            ]
          },
          "metadata": {},
          "output_type": "display_data"
        }
      ],
      "source": [
        "y_final = []\n",
        "\n",
        "for i, k, z, t in zip(y_val[0::4], y_val[1::4], y_val[2::4], y_val[3::4]):\n",
        "   y_final.append(math.log(i + k + z +t ))\n",
        "x_val= [math.log(i+1) for i in range(len(y_final))]\n",
        "\n",
        "fig = plt.figure(figsize=(18,5))\n",
        "\n",
        "plt.xlabel(\"words (log)\")\n",
        "\n",
        "plt.ylabel(\"frequency (log)\" )\n",
        "plt.title(\"word frequency\")\n",
        "\n",
        "plt.plot(x_val, y_final)\n",
        "\n",
        "plt.show\n",
        "\n"
      ]
    }
  ],
  "metadata": {
    "colab": {
      "collapsed_sections": [],
      "name": "Web scraping for reddit.ipynb",
      "provenance": [],
      "authorship_tag": "ABX9TyNaba8iirwXZ96/6Do0whOC",
      "include_colab_link": true
    },
    "kernelspec": {
      "display_name": "Python 3",
      "name": "python3"
    },
    "language_info": {
      "name": "python"
    }
  },
  "nbformat": 4,
  "nbformat_minor": 0
}